{
 "cells": [
  {
   "cell_type": "code",
   "execution_count": null,
   "metadata": {
    "vscode": {
     "languageId": "plaintext"
    }
   },
   "outputs": [],
   "source": [
    "import numpy as np\n",
    "import pandas as pd\n",
    "import os\n",
    "from pyspark.ml.feature import VectorAssembler, StringIndexer, OneHotEncoder\n",
    "from pyspark.ml.regression import GeneralizedLinearRegression\n",
    "from pyspark.sql.functions import col, count, mean, sum, avg, stddev, min, max, lit\n",
    "from pyspark.ml.stat import Summarizer\n",
    "from pyspark.ml.classification import LogisticRegression"
   ]
  },
  {
   "cell_type": "code",
   "execution_count": null,
   "metadata": {
    "vscode": {
     "languageId": "plaintext"
    }
   },
   "outputs": [],
   "source": [
    "path_to_data = os.path.join(os.getcwd(),'data')\n",
    "path_to_data"
   ]
  },
  {
   "cell_type": "code",
   "execution_count": null,
   "metadata": {
    "vscode": {
     "languageId": "plaintext"
    }
   },
   "outputs": [],
   "source": [
    "spark.sql(\"use real_world_data_ed_omop_aug_2024\")\n",
    "spark.sql(\"show tables\").toPandas()"
   ]
  },
  {
   "cell_type": "code",
   "execution_count": null,
   "metadata": {
    "vscode": {
     "languageId": "plaintext"
    }
   },
   "outputs": [],
   "source": [
    "spark.catalog.refreshTable(\"delivery_elig_init_smm\")\n",
    "delivery_elig_init_smm = spark.sql('''\n",
    "    select * from delivery_elig_init_smm\n",
    "''').cache()\n",
    "delivery_elig_init_smm.first()"
   ]
  },
  {
   "cell_type": "code",
   "execution_count": null,
   "metadata": {
    "vscode": {
     "languageId": "plaintext"
    }
   },
   "outputs": [],
   "source": [
    "# one hot encoding\n",
    "def ohe_with_map(\n",
    "    df,              # spark dataframe\n",
    "    cat_cols         # list of categorical columns for ohe\n",
    "):   \n",
    "    # Index the categorical columns\n",
    "    indexers = [StringIndexer(inputCol=col, outputCol=col+\"_index\", stringOrderType=\"frequencyAsc\").fit(df) for col in cat_cols]\n",
    "    \n",
    "    # Apply the indexers to the DataFrame and collect the encoding map\n",
    "    index_maps = {}\n",
    "    for indexer in indexers:\n",
    "        df = indexer.transform(df)\n",
    "        index_maps[indexer.getInputCol()] = dict(enumerate(indexer.labels))\n",
    "    \n",
    "    # One-hot encode the indexed columns\n",
    "    encoders = [OneHotEncoder(inputCol=col + \"_index\", outputCol=col + \"_ohe\") for col in cat_cols]\n",
    "    for encoder in encoders:\n",
    "        df = encoder.transform(df)\n",
    "    \n",
    "    return df, index_maps "
   ]
  },
  {
   "cell_type": "code",
   "execution_count": null,
   "metadata": {
    "vscode": {
     "languageId": "plaintext"
    }
   },
   "outputs": [],
   "source": [
    "delivery_elig_init_smm_ohe = ohe_with_map(\n",
    "    delivery_elig_init_smm,\n",
    "    cat_cols = [\n",
    "        \"race_source_value\",\n",
    "        \"ethnicity_source_value\",\n",
    "        \"agegrp_at_event\",\n",
    "        \"bed_size\",\n",
    "        \"segment\",\n",
    "        \"speciality\",\n",
    "        \"zip_code\",\n",
    "        \"delivery_type\"\n",
    "    ]\n",
    ")\n",
    "delivery_elig_init_smm2 = delivery_elig_init_smm_ohe[0]\n",
    "delivery_elig_init_smm2.first()"
   ]
  },
  {
   "cell_type": "code",
   "execution_count": null,
   "metadata": {
    "vscode": {
     "languageId": "plaintext"
    }
   },
   "outputs": [],
   "source": [
    "def bootstrap_lasso_logistic(\n",
    "    df, \n",
    "    cov_lst,\n",
    "    label_col,\n",
    "    sample_frac = 0.9,\n",
    "    n_iterations = 10, \n",
    "    alpha = 0.05\n",
    "):\n",
    "    coefs = []\n",
    "    \n",
    "    for i in range(n_iterations):\n",
    "        # Create a random sample with replacement\n",
    "        subsampled_df = df.sample(withReplacement=False, fraction=sample_frac)\n",
    "        \n",
    "        # train logistic lasso model\n",
    "        assembler = VectorAssembler(inputCols=cov_lst, outputCol=\"features\")\n",
    "        train_data = assembler.transform(subsampled_df)\n",
    "        lasso_logistic = LogisticRegression(featuresCol=\"features\", labelCol=label_col, elasticNetParam=1.0)\n",
    "        model = lasso_logistic.fit(train_data)\n",
    "        \n",
    "        # collect coef\n",
    "        coefs.append(model.coefficients)\n",
    "\n",
    "    # Calculate the lower and upper percentiles for the confidence interval\n",
    "    coef_meds = np.percentile(coefs, 50, axis=0)\n",
    "    lower_bounds = np.percentile(coefs, 100 * alpha / 2, axis=0)\n",
    "    upper_bounds = np.percentile(coefs, 100 * (1 - alpha / 2), axis=0)\n",
    "    feature_name = assembler.getInputCols()\n",
    "    \n",
    "    return feature_name, coef_meds, lower_bounds, upper_bounds"
   ]
  },
  {
   "cell_type": "code",
   "execution_count": null,
   "metadata": {
    "vscode": {
     "languageId": "plaintext"
    }
   },
   "outputs": [],
   "source": [
    "cov_lst = [\n",
    "     'race_source_value'\n",
    "    ,'ethnicity_source_value'\n",
    "    ,'agegrp_at_event'\n",
    "    ,'los7up_ind'\n",
    "    ,'delivery_type'        \n",
    "    ,'bed_size'\n",
    "    ,'speciality'\n",
    "    ,'segment'\n",
    "    ,'zip_code'\n",
    "]\n",
    "ohe_map = delivery_elig_init_smm_ohe[1]\n",
    "cov_lst_ext = []\n",
    "for v in cov_lst:\n",
    "    if v in ohe_map:\n",
    "        cov_lst_ext.extend(\n",
    "            [v + f\"_{k}\" for k in list(ohe_map[v].keys())[:-1]]\n",
    "        )\n",
    "    else:\n",
    "        cov_lst_ext.append(v)"
   ]
  },
  {
   "cell_type": "code",
   "execution_count": null,
   "metadata": {
    "vscode": {
     "languageId": "plaintext"
    }
   },
   "outputs": [],
   "source": [
    "# multiple lasso logistic regresion with basic var, smmany\n",
    "feature_name, coef_meds, lower_bounds, upper_bounds = bootstrap_lasso_logistic(\n",
    "    delivery_elig_init_smm2, \n",
    "    cov_lst = [\n",
    "         'race_source_value_ohe'\n",
    "        ,'ethnicity_source_value_ohe'\n",
    "        ,'agegrp_at_event_ohe'\n",
    "        ,'los'\n",
    "        ,'delivery_type_ohe'        \n",
    "        ,'bed_size_ohe'\n",
    "        ,'speciality_ohe'\n",
    "        ,'segment_ohe'\n",
    "        ,'zip_code_ohe'\n",
    "    ],\n",
    "    label_col = 'SMMANY_ind',\n",
    "    sample_frac = 0.9,\n",
    "    n_iterations = 20, \n",
    "    alpha = 0.05\n",
    ")"
   ]
  },
  {
   "cell_type": "code",
   "execution_count": null,
   "metadata": {
    "vscode": {
     "languageId": "plaintext"
    }
   },
   "outputs": [],
   "source": [
    "res_mlasso = pd.DataFrame({\n",
    "    'feature': cov_lst_ext, \n",
    "    'coef': coef_meds,\n",
    "    'lower': lower_bounds,\n",
    "    'upper': upper_bounds\n",
    "})\n",
    "# res_mlasso\n",
    "res_mlasso.to_csv(os.path.join(path_to_data,'multilasso_smmany_filter_init.csv'), index=False)"
   ]
  },
  {
   "cell_type": "code",
   "execution_count": null,
   "metadata": {
    "vscode": {
     "languageId": "plaintext"
    }
   },
   "outputs": [],
   "source": [
    "# multiple lasso logistic regresion with basic var, smmany with 90 percentile correction\n",
    "feature_name, coef_meds, lower_bounds, upper_bounds = bootstrap_lasso_logistic(\n",
    "    delivery_elig_init_smm2, \n",
    "    cov_lst = [\n",
    "         'race_source_value_ohe'\n",
    "        ,'ethnicity_source_value_ohe'\n",
    "        ,'agegrp_at_event_ohe'\n",
    "        ,'los'\n",
    "        ,'delivery_type_ohe'        \n",
    "        ,'bed_size_ohe'\n",
    "        ,'speciality_ohe'\n",
    "        ,'segment_ohe'\n",
    "        ,'zip_code_ohe'\n",
    "    ],\n",
    "    label_col = 'SMMANY90PCRT_ind',\n",
    "    sample_frac = 0.9,\n",
    "    n_iterations = 20, \n",
    "    alpha = 0.05\n",
    ")"
   ]
  },
  {
   "cell_type": "code",
   "execution_count": null,
   "metadata": {
    "vscode": {
     "languageId": "plaintext"
    }
   },
   "outputs": [],
   "source": [
    "res_mlasso = pd.DataFrame({\n",
    "    'feature': cov_lst_ext, \n",
    "    'coef': coef_meds,\n",
    "    'lower': lower_bounds,\n",
    "    'upper': upper_bounds\n",
    "})\n",
    "# res_mlasso\n",
    "res_mlasso.to_csv(os.path.join(path_to_data,'multilasso_smmany90pct_filter_init.csv'), index=False)"
   ]
  },
  {
   "cell_type": "code",
   "execution_count": null,
   "metadata": {
    "vscode": {
     "languageId": "plaintext"
    }
   },
   "outputs": [],
   "source": [
    "# multiple lasso logistic regresion with all var, smmany\n",
    "feature_name, coef_meds, lower_bounds, upper_bounds = bootstrap_lasso_logistic(\n",
    "    delivery_elig_init_smm2, \n",
    "    cov_lst = [\n",
    "         'race_source_value_ohe'\n",
    "        ,'ethnicity_source_value_ohe'\n",
    "        ,'agegrp_at_event_ohe'\n",
    "        ,'los'\n",
    "        ,'delivery_type_ohe'        \n",
    "        ,'bed_size_ohe'\n",
    "        ,'speciality_ohe'\n",
    "        ,'segment_ohe'\n",
    "        ,'zip_code_ohe'\n",
    "        ,'hist_HEP_ind'\n",
    "        ,'hist_IHD_ind'\n",
    "        ,'hist_AST_ind'\n",
    "        ,'hist_LIV_ind'\n",
    "        ,'hist_AFIB_ind'\n",
    "        ,'hist_STR_ind'\n",
    "        ,'hist_CKD_ind'\n",
    "        ,'hist_COPD_ind'\n",
    "        ,'hist_HTN_ind'\n",
    "        ,'hist_HF_ind'\n",
    "        ,'hist_AIDS_ind'\n",
    "        ,'hist_PVD_ind'\n",
    "        ,'hist_RA_ind'\n",
    "        ,'hist_AD_ind'\n",
    "        ,'hist_DM_ind'\n",
    "        ,'hist_COVID_ind'\n",
    "        ,'hist_SUB_ind'\n",
    "        ,'hist_ALC_ind'\n",
    "    ],\n",
    "    label_col = 'SMMANY_ind',\n",
    "    sample_frac = 0.9,\n",
    "    n_iterations = 20, \n",
    "    alpha = 0.05\n",
    ")"
   ]
  },
  {
   "cell_type": "code",
   "execution_count": null,
   "metadata": {
    "vscode": {
     "languageId": "plaintext"
    }
   },
   "outputs": [],
   "source": [
    "res_mlasso = pd.DataFrame({\n",
    "    'feature': cov_lst_ext, \n",
    "    'coef': coef_meds,\n",
    "    'lower': lower_bounds,\n",
    "    'upper': upper_bounds\n",
    "})\n",
    "# res_mlasso\n",
    "res_mlasso.to_csv(os.path.join(path_to_data,'multilasso_smmany_filter_init2.csv'), index=False)"
   ]
  },
  {
   "cell_type": "code",
   "execution_count": null,
   "metadata": {
    "vscode": {
     "languageId": "plaintext"
    }
   },
   "outputs": [],
   "source": [
    "# multiple lasso logistic regresion with all var, smmany with 90 percentile correction\n",
    "feature_name, coef_meds, lower_bounds, upper_bounds = bootstrap_lasso_logistic(\n",
    "    delivery_elig_init_smm2, \n",
    "    cov_lst = [\n",
    "         'race_source_value_ohe'\n",
    "        ,'ethnicity_source_value_ohe'\n",
    "        ,'agegrp_at_event_ohe'\n",
    "        ,'los'\n",
    "        ,'delivery_type_ohe'        \n",
    "        ,'bed_size_ohe'\n",
    "        ,'speciality_ohe'\n",
    "        ,'segment_ohe'\n",
    "        ,'zip_code_ohe'\n",
    "        ,'hist_HEP_ind'\n",
    "        ,'hist_IHD_ind'\n",
    "        ,'hist_AST_ind'\n",
    "        ,'hist_LIV_ind'\n",
    "        ,'hist_AFIB_ind'\n",
    "        ,'hist_STR_ind'\n",
    "        ,'hist_CKD_ind'\n",
    "        ,'hist_COPD_ind'\n",
    "        ,'hist_HTN_ind'\n",
    "        ,'hist_HF_ind'\n",
    "        ,'hist_AIDS_ind'\n",
    "        ,'hist_PVD_ind'\n",
    "        ,'hist_RA_ind'\n",
    "        ,'hist_AD_ind'\n",
    "        ,'hist_DM_ind'\n",
    "        ,'hist_COVID_ind'\n",
    "        ,'hist_SUB_ind'\n",
    "        ,'hist_ALC_ind'\n",
    "    ],\n",
    "    label_col = 'SMMANY90PCT_ind',\n",
    "    sample_frac = 0.9,\n",
    "    n_iterations = 20, \n",
    "    alpha = 0.05\n",
    ")"
   ]
  },
  {
   "cell_type": "code",
   "execution_count": null,
   "metadata": {
    "vscode": {
     "languageId": "plaintext"
    }
   },
   "outputs": [],
   "source": [
    "res_mlasso = pd.DataFrame({\n",
    "    'feature': cov_lst_ext, \n",
    "    'coef': coef_meds,\n",
    "    'lower': lower_bounds,\n",
    "    'upper': upper_bounds\n",
    "})\n",
    "# res_mlasso\n",
    "res_mlasso.to_csv(os.path.join(path_to_data,'multilasso_smmany90pct_filter_init2.csv'), index=False)"
   ]
  }
 ],
 "metadata": {
  "language_info": {
   "name": "python"
  }
 },
 "nbformat": 4,
 "nbformat_minor": 2
}
