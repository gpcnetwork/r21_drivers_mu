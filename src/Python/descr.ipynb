{
 "cells": [
  {
   "cell_type": "code",
   "execution_count": null,
   "metadata": {
    "vscode": {
     "languageId": "plaintext"
    }
   },
   "outputs": [],
   "source": [
    "import numpy as np\n",
    "import pandas as pd\n",
    "import os\n",
    "from pyspark.ml.feature import VectorAssembler, StringIndexer, OneHotEncoder\n",
    "from pyspark.ml.regression import GeneralizedLinearRegression\n",
    "from pyspark.sql.functions import col, count, mean, sum, avg, stddev, min, max, lit\n",
    "from pyspark.ml.stat import Summarizer\n",
    "from pyspark.ml.classification import LogisticRegression"
   ]
  },
  {
   "cell_type": "code",
   "execution_count": null,
   "metadata": {
    "vscode": {
     "languageId": "plaintext"
    }
   },
   "outputs": [],
   "source": [
    "path_to_data = os.path.join(os.getcwd(),'data')\n",
    "path_to_data"
   ]
  },
  {
   "cell_type": "code",
   "execution_count": null,
   "metadata": {
    "vscode": {
     "languageId": "plaintext"
    }
   },
   "outputs": [],
   "source": [
    "spark.sql(\"use real_world_data_ed_omop_aug_2024\")\n",
    "spark.sql(\"show tables\").toPandas()"
   ]
  },
  {
   "cell_type": "code",
   "execution_count": null,
   "metadata": {
    "vscode": {
     "languageId": "plaintext"
    }
   },
   "outputs": [],
   "source": [
    "spark.catalog.refreshTable(\"delivery_elig_init_smm\")\n",
    "delivery_elig_init_smm = spark.sql('''\n",
    "    select * from delivery_elig_init_smm\n",
    "''').cache()\n",
    "delivery_elig_init_smm.first()"
   ]
  },
  {
   "cell_type": "code",
   "execution_count": null,
   "metadata": {
    "vscode": {
     "languageId": "plaintext"
    }
   },
   "outputs": [],
   "source": [
    "spark.catalog.refreshTable(\"delivery_elig_smm\")\n",
    "delivery_elig_smm = spark.sql('''\n",
    "    select * from delivery_elig_smm\n",
    "''').cache()\n",
    "delivery_elig_smm.first()"
   ]
  },
  {
   "cell_type": "code",
   "execution_count": null,
   "metadata": {
    "vscode": {
     "languageId": "plaintext"
    }
   },
   "outputs": [],
   "source": [
    "# import itertools\n",
    "# def pt_freq_qry(df,stratified_by,n_way=1):\n",
    "#     '''\n",
    "#     generate total patient counts for each stratified variables\n",
    "#     '''\n",
    "#     sql_str_lst = []\n",
    "#     # overall count\n",
    "#     sql_str_lst.append(\"select 'total' as summ_var,'N' as summ_cat, count(distinct person_id) as pat_cnt, count(distinct person_id || '_' || event_id) as evt_cnt from \" + df)\n",
    "    \n",
    "#     # 1-way summary\n",
    "#     for var_str in stratified_by:\n",
    "#         sql_str_lst.append(\n",
    "#             \"select '\" + var_str +\"' as summ_var,\" \n",
    "#             + \"cast(\" + var_str +\" as string) as summ_cat,\"\n",
    "#             + \"count(distinct person_id) as pat_cnt, \"\n",
    "#             + \"count(distinct person_id || '_' || event_id) as evt_cnt \"\n",
    "#             + \"from \"+ df + \" group by \"+ var_str\n",
    "#         )\n",
    "        \n",
    "#     # up to n-way summary\n",
    "#     if n_way > 1:\n",
    "#         for L in range(2,n_way+1,1):\n",
    "#             for var_str_comb in itertools.combinations(stratified_by, L):\n",
    "#                 var_str_concat_by_pipe = \"|\".join(var_str_comb)\n",
    "#                 var_str_concat_by_dpipe = \"|| '||' ||\".join(var_str_comb)\n",
    "#                 var_str_concat_by_comma = \",\".join(var_str_comb)\n",
    "#                 sql_str_lst.append(\n",
    "#                     \"select 'by_\" + var_str_concat_by_pipe +\"' as summ_var,\" \n",
    "#                     + \"cast(\" + var_str_concat_by_dpipe +\" as string) as summ_cat,\"\n",
    "#                     + \"count(distinct person_id) as pat_cnt, \"\n",
    "#                     + \"count(distinct person_id || '_' || event_id) as evt_cnt \"\n",
    "#                     + \"from \"+ df + \" group by \"+ var_str_concat_by_comma\n",
    "#                 )\n",
    "                \n",
    "#     # union everything\n",
    "#     sql_str = \" union \".join(sql_str_lst)\n",
    "#     return(sql_str)"
   ]
  },
  {
   "cell_type": "code",
   "execution_count": null,
   "metadata": {
    "vscode": {
     "languageId": "plaintext"
    }
   },
   "outputs": [],
   "source": [
    "# stratified_by = [\n",
    "#     'agegrp_at_event',\n",
    "#     'race_source_value',\n",
    "#     'ethnicity_source_value',\n",
    "#     'segment',\n",
    "#     'speciality',\n",
    "#     'bed_size',\n",
    "#     'zip_code',\n",
    "#     'death_ind',\n",
    "#     'SMMANY_ind'\n",
    "# ]\n",
    "# get_pt_summ = pt_freq_qry(\n",
    "#     'delivery_elig_tbl1',stratified_by,n_way=2\n",
    "# )\n",
    "# summ_stat_long = spark.sql(get_pt_summ).toPandas()\n",
    "# summ_stat_long.to_csv(os.path.join(path_to_data,'summ_stat_2way.csv'),index=False)"
   ]
  },
  {
   "cell_type": "code",
   "execution_count": null,
   "metadata": {
    "vscode": {
     "languageId": "plaintext"
    }
   },
   "outputs": [],
   "source": [
    "denom_df = pd.DataFrame(\n",
    "    {\n",
    "        'N_delivery': delivery_elig_smm.count(),\n",
    "        'N_person': delivery_elig_smm.select('person_id').distinct().count(),\n",
    "        'N_init_delivery':delivery_elig_init_smm.count(),\n",
    "        'Dt_first':delivery_elig_smm.agg({\"event_start_date\": \"min\"}).collect()[0][0],\n",
    "        'Dt_last':delivery_elig_smm.agg({\"event_start_date\": \"max\"}).collect()[0][0],\n",
    "        'LOS_90PCT':delivery_elig_smm.approxQuantile('los',[0.9],0.01)\n",
    "    }\n",
    ")\n",
    "denom_df.to_csv(os.path.join(path_to_data,'denom_summ.csv'),index=False)"
   ]
  },
  {
   "cell_type": "code",
   "execution_count": null,
   "metadata": {
    "vscode": {
     "languageId": "plaintext"
    }
   },
   "outputs": [],
   "source": [
    "# one hot encoding\n",
    "def ohe_with_map(\n",
    "    df,              # spark dataframe\n",
    "    cat_cols         # list of categorical columns for ohe\n",
    "):   \n",
    "    # Index the categorical columns\n",
    "    indexers = [StringIndexer(inputCol=col, outputCol=col+\"_index\", stringOrderType=\"frequencyAsc\").fit(df) for col in cat_cols]\n",
    "    \n",
    "    # Apply the indexers to the DataFrame and collect the encoding map\n",
    "    index_maps = {}\n",
    "    for indexer in indexers:\n",
    "        df = indexer.transform(df)\n",
    "        index_maps[indexer.getInputCol()] = dict(enumerate(indexer.labels))\n",
    "    \n",
    "    # One-hot encode the indexed columns\n",
    "    encoders = [OneHotEncoder(inputCol=col + \"_index\", outputCol=col + \"_ohe\") for col in cat_cols]\n",
    "    for encoder in encoders:\n",
    "        df = encoder.transform(df)\n",
    "    \n",
    "    return df, index_maps "
   ]
  },
  {
   "cell_type": "code",
   "execution_count": null,
   "metadata": {
    "vscode": {
     "languageId": "plaintext"
    }
   },
   "outputs": [],
   "source": [
    "delivery_elig_init_smm_ohe = ohe_with_map(\n",
    "    delivery_elig_init_smm,\n",
    "    cat_cols = [\n",
    "        \"race_source_value\",\n",
    "        \"ethnicity_source_value\",\n",
    "        \"agegrp_at_event\",\n",
    "        \"bed_size\",\n",
    "        \"segment\",\n",
    "        \"speciality\",\n",
    "        \"zip_code\",\n",
    "        \"delivery_type\"\n",
    "    ]\n",
    ")\n",
    "delivery_elig_init_smm2 = delivery_elig_init_smm_ohe[0]\n",
    "delivery_elig_init_smm2.first()"
   ]
  },
  {
   "cell_type": "code",
   "execution_count": null,
   "metadata": {
    "vscode": {
     "languageId": "plaintext"
    }
   },
   "outputs": [],
   "source": [
    "delivery_elig_init_smm_ohe[1]"
   ]
  },
  {
   "cell_type": "code",
   "execution_count": null,
   "metadata": {
    "vscode": {
     "languageId": "plaintext"
    }
   },
   "outputs": [],
   "source": [
    "cov_cat_lst = [\n",
    "     'race_source_value_ohe'\n",
    "    ,'ethnicity_source_value_ohe'\n",
    "    ,'bed_size_ohe'\n",
    "    ,'speciality_ohe'\n",
    "    ,'segment_ohe'\n",
    "    ,'zip_code_ohe'\n",
    "    ,'agegrp_at_event_ohe'\n",
    "    ,'delivery_type_ohe'\n",
    "    ,'los2up_ind'\n",
    "    ,'los3up_ind'\n",
    "    ,'los4up_ind'\n",
    "    ,'los5up_ind'\n",
    "    ,'los6up_ind'\n",
    "    ,'los7up_ind'\n",
    "    ,'hist_HEP_ind'\n",
    "    ,'hist_IHD_ind'\n",
    "    ,'hist_AST_ind'\n",
    "    ,'hist_LIV_ind'\n",
    "    ,'hist_AFIB_ind'\n",
    "    ,'hist_STR_ind'\n",
    "    ,'hist_CKD_ind'\n",
    "    ,'hist_COPD_ind'\n",
    "    ,'hist_HTN_ind'\n",
    "    ,'hist_HF_ind'\n",
    "    ,'hist_AIDS_ind'\n",
    "    ,'hist_PVD_ind'\n",
    "    ,'hist_RA_ind'\n",
    "    ,'hist_AD_ind'\n",
    "    ,'hist_DM_ind'\n",
    "    ,'hist_COVID_ind'\n",
    "    ,'hist_SUB_ind'\n",
    "    ,'hist_ALC_ind'\n",
    "]\n",
    "cov_num_lst = [\n",
    "    'age_at_event'\n",
    "    ,'los'\n",
    "    ,'hist_HEP_since_index'\n",
    "    ,'hist_IHD_since_index'\n",
    "    ,'hist_AST_since_index'\n",
    "    ,'hist_LIV_since_index'\n",
    "    ,'hist_AFIB_since_index'\n",
    "    ,'hist_STR_since_index'\n",
    "    ,'hist_CKD_since_index'\n",
    "    ,'hist_COPD_since_index'\n",
    "    ,'hist_HTN_since_index'\n",
    "    ,'hist_HF_since_index'\n",
    "    ,'hist_AIDS_since_index'\n",
    "    ,'hist_PVD_since_index'\n",
    "    ,'hist_RA_since_index'\n",
    "    ,'hist_AD_since_index'\n",
    "    ,'hist_DM_since_index'\n",
    "    ,'hist_COVID_since_index'\n",
    "    ,'hist_SUB_since_index'\n",
    "    ,'hist_ALC_since_index'\n",
    "]\n",
    "\n",
    "cov_lst = cov_cat_lst + cov_num_lst\n",
    "\n",
    "out_lst = [\n",
    "     'death_ind' #961, \n",
    "    ,'SMMANY_ind' #30267, 1.3%\n",
    "    ,\"SMMANY90PCT_ind\"\n",
    "#     ,'AMI_ind'\n",
    "#     ,'ANE_ind'\n",
    "#     ,'ARF_ind'\n",
    "#     ,'ARDS_ind'\n",
    "#     ,'AFE_ind'\n",
    "#     ,'CAVF_ind'\n",
    "    ,'COCR_ind' #386\n",
    "#     ,'DIC_ind'\n",
    "#     ,'ECL_ind'\n",
    "#     ,'HF_ind'\n",
    "#     ,'PCD_ind'\n",
    "#     ,'PE_ind'\n",
    "#     ,'SAC_ind'\n",
    "#     ,'SEP_ind'\n",
    "#     ,'SSH_ind'\n",
    "#     ,'SCC_ind'\n",
    "#     ,'ATE_ind'\n",
    "    ,'BPT_ind' #26734,1.1%\n",
    "    ,'HYS_ind' #3188, 0.1%\n",
    "    ,'TT_ind' #119\n",
    "    ,'VEN_ind' #1946\n",
    "]\n",
    "\n",
    "since_index_lst = [\n",
    "     'death_since_index'\n",
    "    ,'SMMANY_since_index'\n",
    "    ,'SMMANY90PCT_since_index'\n",
    "]"
   ]
  },
  {
   "cell_type": "code",
   "execution_count": null,
   "metadata": {
    "vscode": {
     "languageId": "plaintext"
    }
   },
   "outputs": [],
   "source": [
    "def summ_gen(\n",
    "    df, \n",
    "    cols,\n",
    "    cat_switch = False,\n",
    "    outcome = None\n",
    "):\n",
    "    N = df.count()\n",
    "    res_dfs = []\n",
    "    for col in cols:\n",
    "        if cat_switch:\n",
    "            if outcome:\n",
    "                summary = df.groupBy(col,outcome).agg(\n",
    "                    count(col).alias(\"count\"),\n",
    "                    (count(col)/N).alias(\"prop\")\n",
    "                ).withColumn(\"var\", lit(col)).withColumnRenamed(col, \"cat\")\n",
    "            else:\n",
    "                summary = df.groupBy(col).agg(\n",
    "                    count(col).alias(\"count\"),\n",
    "                    (count(col)/N).alias(\"prop\")\n",
    "                ).withColumn(\"var\", lit(col)).withColumnRenamed(col, \"cat\")\n",
    "        else:\n",
    "            if outcome:\n",
    "                summary = df.groupBy(outcome).agg(\n",
    "                    lit(col).alias(\"var\"),\n",
    "                    mean(col).alias(\"mean\"),\n",
    "                    stddev(col).alias(\"stddev\"),\n",
    "                    min(col).alias(\"min\"),\n",
    "                    max(col).alias(\"max\")\n",
    "                ).withColumn(\"var\", lit(col))\n",
    "            else:\n",
    "                summary = df.agg(\n",
    "                    lit(col).alias(\"var\"),\n",
    "                    mean(col).alias(\"mean\"),\n",
    "                    stddev(col).alias(\"stddev\"),\n",
    "                    min(col).alias(\"min\"),\n",
    "                    max(col).alias(\"max\")\n",
    "                ).withColumn(\"var\", lit(col))\n",
    "        \n",
    "        res_dfs.append(summary.toPandas())\n",
    "\n",
    "    # Concatenate the Pandas DataFrames into a single DataFrame\n",
    "    res = pd.concat(res_dfs, ignore_index=True)\n",
    "    return res"
   ]
  },
  {
   "cell_type": "code",
   "execution_count": null,
   "metadata": {
    "vscode": {
     "languageId": "plaintext"
    }
   },
   "outputs": [],
   "source": [
    "res_init_num = summ_gen(\n",
    "    delivery_elig_init_smm2,\n",
    "    cov_num_lst+out_lst+since_index_lst,\n",
    "    outcome = \"SMMANY_IND\"\n",
    ")\n",
    "res_init_num.to_csv(os.path.join(path_to_data,'summ_num_init_smm.csv'),index=False)"
   ]
  },
  {
   "cell_type": "code",
   "execution_count": null,
   "metadata": {
    "vscode": {
     "languageId": "plaintext"
    }
   },
   "outputs": [],
   "source": [
    "res_init_num = summ_gen(\n",
    "    delivery_elig_init_smm2,\n",
    "    cov_num_lst+out_lst+since_index_lst,\n",
    "    outcome = \"SMMANY90PCT_IND\"\n",
    ")\n",
    "res_init_num.to_csv(os.path.join(path_to_data,'summ_num_init_smm90pct.csv'),index=False)"
   ]
  },
  {
   "cell_type": "code",
   "execution_count": null,
   "metadata": {
    "vscode": {
     "languageId": "plaintext"
    }
   },
   "outputs": [],
   "source": [
    "res_init_num = summ_gen(\n",
    "    delivery_elig_init_smm2,\n",
    "    cov_num_lst+out_lst+since_index_lst,\n",
    "    outcome = \"death_ind\"\n",
    ")\n",
    "res_init_num.to_csv(os.path.join(path_to_data,'summ_num_init_dth.csv'),index=False)"
   ]
  },
  {
   "cell_type": "code",
   "execution_count": null,
   "metadata": {
    "vscode": {
     "languageId": "plaintext"
    }
   },
   "outputs": [],
   "source": [
    "cov_cat_lst = [\n",
    "     'race_source_value'\n",
    "    ,'ethnicity_source_value'\n",
    "    ,'bed_size'\n",
    "    ,'speciality'\n",
    "    ,'segment'\n",
    "    ,'zip_code'\n",
    "    ,'agegrp_at_event'\n",
    "    ,'los2up_ind'\n",
    "    ,'los3up_ind'\n",
    "    ,'los4up_ind'\n",
    "    ,'los5up_ind'\n",
    "    ,'los6up_ind'\n",
    "    ,'los7up_ind'\n",
    "    ,'hist_HEP_ind'\n",
    "    ,'hist_IHD_ind'\n",
    "    ,'hist_AST_ind'\n",
    "    ,'hist_LIV_ind'\n",
    "    ,'hist_AFIB_ind'\n",
    "    ,'hist_STR_ind'\n",
    "    ,'hist_CKD_ind'\n",
    "    ,'hist_COPD_ind'\n",
    "    ,'hist_HTN_ind'\n",
    "    ,'hist_HF_ind'\n",
    "    ,'hist_AIDS_ind'\n",
    "    ,'hist_PVD_ind'\n",
    "    ,'hist_RA_ind'\n",
    "    ,'hist_AD_ind'\n",
    "    ,'hist_DM_ind'\n",
    "    ,'hist_COVID_ind'\n",
    "    ,'hist_SUB_ind'\n",
    "    ,'hist_ALC_ind'\n",
    "]\n",
    "res_init_cat = summ_gen(\n",
    "    delivery_elig_init_smm2,\n",
    "    cov_cat_lst+out_lst,\n",
    "    cat_switch = True\n",
    ")\n",
    "res_init_cat.to_csv(os.path.join(path_to_data,'summ_init_cat.csv'),index=False)"
   ]
  },
  {
   "cell_type": "code",
   "execution_count": null,
   "metadata": {
    "vscode": {
     "languageId": "plaintext"
    }
   },
   "outputs": [],
   "source": [
    "res_init_cat = summ_gen(\n",
    "    delivery_elig_init_smm2,\n",
    "    cov_cat_lst,\n",
    "    cat_switch = True,\n",
    "    outcome = \"SMMANY_IND\"\n",
    ")\n",
    "res_init_cat.to_csv(os.path.join(path_to_data,'summ_init_cat_smm.csv'),index=False)"
   ]
  },
  {
   "cell_type": "code",
   "execution_count": null,
   "metadata": {
    "vscode": {
     "languageId": "plaintext"
    }
   },
   "outputs": [],
   "source": [
    "res_init_cat = summ_gen(\n",
    "    delivery_elig_init_smm2,\n",
    "    cov_cat_lst,\n",
    "    cat_switch = True,\n",
    "    outcome = \"SMMANY90PCT_IND\"\n",
    ")\n",
    "res_init_cat.to_csv(os.path.join(path_to_data,'summ_init_cat_smm90pct.csv'),index=False)"
   ]
  },
  {
   "cell_type": "code",
   "execution_count": null,
   "metadata": {
    "vscode": {
     "languageId": "plaintext"
    }
   },
   "outputs": [],
   "source": [
    "res_init_cat = summ_gen(\n",
    "    delivery_elig_init_smm2,\n",
    "    cov_cat_lst,\n",
    "    cat_switch = True,\n",
    "    outcome = \"death_ind\"\n",
    ")\n",
    "res_init_cat.to_csv(os.path.join(path_to_data,'summ_cat_init_dth.csv'),index=False)"
   ]
  },
  {
   "cell_type": "code",
   "execution_count": null,
   "metadata": {
    "vscode": {
     "languageId": "plaintext"
    }
   },
   "outputs": [],
   "source": [
    "# # quick single-var summary\n",
    "# N = delivery_elig_smm2.count()\n",
    "# agg_df = delivery_elig_smm2.groupBy(\"bed_size\").agg(\n",
    "#     count(\"bed_size\").alias(\"count\"),\n",
    "# #     (count(\"bed_size_ohe\")/N).alias('prop'),\n",
    "#     sum(\"death_ind\").alias(\"count_death\"),\n",
    "# #     (sum(\"death_ind\")/count(\"bed_size_ohe\")).alias(\"prop_death\"),\n",
    "#     sum(\"SMMANY_ind\").alias(\"count_smm\")\n",
    "# #     (sum(\"SMMANY_ind\")/count(\"bed_size_ohe\")).alias(\"prop_summ\")\n",
    "    \n",
    "# )\n",
    "# agg_df.show()"
   ]
  },
  {
   "cell_type": "code",
   "execution_count": null,
   "metadata": {
    "vscode": {
     "languageId": "plaintext"
    }
   },
   "outputs": [],
   "source": [
    "def univar_analysis(\n",
    "    df,              # spark dataframe\n",
    "    covariate_cols,  # list of covariates (assume ohe already applied)\n",
    "    outcome_cols,    # list of outcomes\n",
    "    outcome_types,   # list of outcome types\n",
    "    verbose = True   # report progress\n",
    "):\n",
    "    # global glm family mapping based on outcome types\n",
    "    family_map = {\n",
    "        \"bin\": \"binomial\",\n",
    "        \"con\": \"gaussian\",\n",
    "        \"dis\": \"poisson\",\n",
    "        \"pos\": \"gamma\",\n",
    "        \"mix\": \"tweedie\"\n",
    "    }\n",
    "    \n",
    "    odds_ratios = {}\n",
    "    for idx, outcome in enumerate(outcome_cols):  \n",
    "        for idx2, covariate in enumerate(covariate_cols):              \n",
    "            # Fit univariate glm\n",
    "            vector_assembler = VectorAssembler(inputCols=[covariate], outputCol=\"features\")\n",
    "            df_assembled = vector_assembler.transform(df)\n",
    "            glr = GeneralizedLinearRegression(\n",
    "                family=family_map[outcome_types[idx]], \n",
    "                link=\"logit\",\n",
    "                featuresCol=\"features\", \n",
    "                labelCol=outcome\n",
    "            )\n",
    "            model = glr.fit(df_assembled)\n",
    "            summary = model.summary\n",
    "\n",
    "            # Extract coefficients and calculate odds ratios\n",
    "            for i, coef in enumerate(model.coefficients):\n",
    "                odds_ratio = np.exp(coef) \n",
    "                if hasattr(summary, 'coefficientStandardErrors'):\n",
    "                    coefficient_standard_error = summary.coefficientStandardErrors[i]\n",
    "                else:\n",
    "                    coefficient_standard_error = 0\n",
    "                conf_lower = np.exp(coef - 1.96 * coefficient_standard_error)\n",
    "                conf_upper= np.exp(coef + 1.96 * coefficient_standard_error)\n",
    "                \n",
    "                # gather results\n",
    "                odds_ratios[f\"{outcome}_{covariate}_{i}\"]={\n",
    "                    'outcome': outcome,\n",
    "                    'var': covariate,\n",
    "                    \"encoded\": i,\n",
    "                    \"coef\": coef,\n",
    "                    \"odds_ratio\": odds_ratio,\n",
    "                    \"conf_lower\": conf_lower,\n",
    "                    \"conf_upper\": conf_upper,\n",
    "                    \"pval\": summary.pValues[i]\n",
    "                }\n",
    "                \n",
    "            # report progress         \n",
    "            if verbose:\n",
    "                print(f\"processed:outcome={outcome};covariate={covariate} \\n\")\n",
    "                \n",
    "    return odds_ratios"
   ]
  },
  {
   "cell_type": "code",
   "execution_count": null,
   "metadata": {
    "vscode": {
     "languageId": "plaintext"
    }
   },
   "outputs": [],
   "source": [
    "cov_cat_lst = [\n",
    "     'race_source_value_ohe'\n",
    "    ,'ethnicity_source_value_ohe'\n",
    "    ,'bed_size_ohe'\n",
    "    ,'speciality_ohe'\n",
    "    ,'segment_ohe'\n",
    "    ,'zip_code_ohe'\n",
    "    ,'agegrp_at_event_ohe'\n",
    "    ,'delivery_type_ohe'\n",
    "    ,'los2up_ind'\n",
    "    ,'los3up_ind'\n",
    "    ,'los4up_ind'\n",
    "    ,'los5up_ind'\n",
    "    ,'los6up_ind'\n",
    "    ,'los7up_ind'\n",
    "    ,'hist_HEP_ind'\n",
    "    ,'hist_IHD_ind'\n",
    "    ,'hist_AST_ind'\n",
    "    ,'hist_LIV_ind'\n",
    "    ,'hist_AFIB_ind'\n",
    "    ,'hist_STR_ind'\n",
    "    ,'hist_CKD_ind'\n",
    "    ,'hist_COPD_ind'\n",
    "    ,'hist_HTN_ind'\n",
    "    ,'hist_HF_ind'\n",
    "    ,'hist_AIDS_ind'\n",
    "    ,'hist_PVD_ind'\n",
    "    ,'hist_RA_ind'\n",
    "    ,'hist_AD_ind'\n",
    "    ,'hist_DM_ind'\n",
    "    ,'hist_COVID_ind'\n",
    "    ,'hist_SUB_ind'\n",
    "    ,'hist_ALC_ind'\n",
    "]\n",
    "cov_num_lst = [\n",
    "     'age_at_event'\n",
    "    ,'los'\n",
    "]\n",
    "\n",
    "cov_lst = cov_cat_lst + cov_num_lst\n",
    "\n",
    "out_lst = [\n",
    "     'death_ind' #961, \n",
    "    ,'SMMANY_ind' #30267, 1.3%\n",
    "    ,\"SMMANY90PCT_ind\"\n",
    "]\n",
    "type_lst = ['bin']*len(out_lst)"
   ]
  },
  {
   "cell_type": "code",
   "execution_count": null,
   "metadata": {
    "vscode": {
     "languageId": "plaintext"
    }
   },
   "outputs": [],
   "source": [
    "type_lst = ['bin']*len(out_lst)\n",
    "res_init = univar_analysis(\n",
    "    df = delivery_elig_init_smm2,\n",
    "    covariate_cols = cov_lst,\n",
    "    outcome_cols = out_lst,\n",
    "    outcome_types = type_lst\n",
    ")\n",
    "res_init_df = pd.json_normalize(res_init.values())\n",
    "res_init_df.to_csv(os.path.join(path_to_data,'univar_filter_init.csv'), index=False)"
   ]
  }
 ],
 "metadata": {
  "language_info": {
   "name": "python"
  }
 },
 "nbformat": 4,
 "nbformat_minor": 2
}
