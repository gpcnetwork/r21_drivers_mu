{
 "cells": [
  {
   "cell_type": "code",
   "execution_count": null,
   "metadata": {
    "vscode": {
     "languageId": "plaintext"
    }
   },
   "outputs": [],
   "source": [
    "import pandas as pd\n",
    "import json\n",
    "import urllib.request as urlreq\n",
    "import os"
   ]
  },
  {
   "cell_type": "code",
   "execution_count": null,
   "metadata": {
    "vscode": {
     "languageId": "plaintext"
    }
   },
   "outputs": [],
   "source": [
    "path_to_data = os.path.join(os.getcwd(),'University of Missouri','DRIVERS','data')\n",
    "path_to_data"
   ]
  },
  {
   "cell_type": "code",
   "execution_count": null,
   "metadata": {
    "vscode": {
     "languageId": "plaintext"
    }
   },
   "outputs": [],
   "source": [
    "spark.sql(\"use real_world_data_ed_omop_dec_2023\")"
   ]
  },
  {
   "cell_type": "code",
   "execution_count": null,
   "metadata": {
    "vscode": {
     "languageId": "plaintext"
    }
   },
   "outputs": [],
   "source": [
    "cd_meta = spark.sql('''\n",
    "    select concept_id,concept_name,concept_code,vocabulary_id,domain_id\n",
    "    from concept\n",
    "    where vocabulary_id = 'DRG' and\n",
    "          concept_code in (\n",
    "            '765','766','767','768',\n",
    "            '774','775',\n",
    "            '783','784','785','786', '787','788',\n",
    "            '796','797','798',\n",
    "            '805','806','807'\n",
    "          )\n",
    "    union all \n",
    "    select concept_id,concept_name,concept_code,vocabulary_id,domain_id\n",
    "    from concept\n",
    "    where vocabulary_id = 'CPT4' and\n",
    "          concept_code in (\n",
    "            '59409','59514', '59612','59620'\n",
    "          )\n",
    "    union all \n",
    "    select concept_id,concept_name,concept_code,vocabulary_id,domain_id\n",
    "    from concept\n",
    "    where vocabulary_id = 'ICD10PCS' and\n",
    "          concept_code in (\n",
    "            '10D00Z0','10D00Z1','10D00Z2','10D07Z3','10D07Z4', '10D07Z5', '10D07Z6','10D07Z7','10D07Z8',\n",
    "            '10E0XZZ'\n",
    "          )\n",
    "    union all\n",
    "    select concept_id,concept_name,concept_code,vocabulary_id,domain_id\n",
    "    from concept\n",
    "    where vocabulary_id = 'LOINC' and\n",
    "          concept_code in (\n",
    "            \n",
    "          )\n",
    "''').toPandas()\n",
    "cd_meta.to_csv(os.path.join(path_to_data,'cd_meta_omop.csv'),index=False)"
   ]
  },
  {
   "cell_type": "code",
   "execution_count": null,
   "metadata": {
    "vscode": {
     "languageId": "plaintext"
    }
   },
   "outputs": [],
   "source": [
    "def cd_where_clause(meta_tbl,voc_id):\n",
    "    '''\n",
    "    generate where clause details based on omop concept_id\n",
    "    '''\n",
    "    cd_lst = meta_tbl.loc[meta_tbl['vocabulary_id']==voc_id,'concept_id'].tolist()\n",
    "    cd_quote = []\n",
    "    for code in cd_lst:\n",
    "        cd_quote.append(\"'\"+ str(code) +\"'\")\n",
    "    cd_quote_str = \",\".join(cd_quote)\n",
    "    return cd_quote_str     \n",
    "\n",
    "meta_tbl = pd.read_csv(os.path.join(path_to_data,'cd_meta_omop.csv'))\n",
    "drg_where = cd_where_clause(meta_tbl,'DRG')\n",
    "cpt4_where = cd_where_clause(meta_tbl,'CPT4')\n",
    "icd10_where = cd_where_clause(meta_tbl,'ICD10PCS')"
   ]
  }
 ],
 "metadata": {
  "language_info": {
   "name": "python"
  }
 },
 "nbformat": 4,
 "nbformat_minor": 2
}
