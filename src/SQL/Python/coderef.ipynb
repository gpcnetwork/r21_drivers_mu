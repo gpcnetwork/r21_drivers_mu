{
 "cells": [
  {
   "cell_type": "code",
   "execution_count": null,
   "metadata": {
    "vscode": {
     "languageId": "plaintext"
    }
   },
   "outputs": [],
   "source": [
    "import pandas as pd\n",
    "import json\n",
    "import urllib.request as urlreq\n",
    "import os"
   ]
  },
  {
   "cell_type": "code",
   "execution_count": null,
   "metadata": {
    "vscode": {
     "languageId": "plaintext"
    }
   },
   "outputs": [],
   "source": [
    "path_to_data = os.path.join(os.getcwd(),'University of Missouri','DRIVERS','data')\n",
    "path_to_data"
   ]
  },
  {
   "cell_type": "code",
   "execution_count": null,
   "metadata": {
    "vscode": {
     "languageId": "plaintext"
    }
   },
   "outputs": [],
   "source": [
    "spark.sql(\"use real_world_data_ed_omop_dec_2023\")"
   ]
  },
  {
   "cell_type": "code",
   "execution_count": null,
   "metadata": {
    "vscode": {
     "languageId": "plaintext"
    }
   },
   "outputs": [],
   "source": [
    "cd_meta = spark.sql('''\n",
    "    select concept_id,concept_name,concept_code,vocabulary_id,domain_id\n",
    "    from concept\n",
    "    where vocabulary_id = 'DRG' and\n",
    "          concept_code in (\n",
    "            '765','766','767','768',\n",
    "            '774','775',\n",
    "            '783','784','785','786', '787','788',\n",
    "            '796','797','798',\n",
    "            '805','806','807'\n",
    "          )\n",
    "    union all \n",
    "    select concept_id,concept_name,concept_code,vocabulary_id,domain_id\n",
    "    from concept\n",
    "    where vocabulary_id = 'CPT4' and\n",
    "          concept_code in (\n",
    "            '59409','59514', '59612','59620'\n",
    "          )\n",
    "    union all \n",
    "    select concept_id,concept_name,concept_code,vocabulary_id,domain_id\n",
    "    from concept\n",
    "    where vocabulary_id = 'ICD10PCS' and\n",
    "          concept_code in (\n",
    "            '10D00Z0','10D00Z1','10D00Z2','10D07Z3','10D07Z4', '10D07Z5', '10D07Z6','10D07Z7','10D07Z8',\n",
    "            '10E0XZZ'\n",
    "          )\n",
    "    union all\n",
    "    select concept_id,concept_name,concept_code,vocabulary_id,domain_id\n",
    "    from concept\n",
    "    where vocabulary_id = 'LOINC' and\n",
    "          concept_code in (\n",
    "            \n",
    "          )\n",
    "''').toPandas()\n",
    "cd_meta.to_csv(os.path.join(path_to_data,'cd_meta_omop.csv'),index=False)"
   ]
  },
  {
   "cell_type": "code",
   "execution_count": null,
   "metadata": {
    "vscode": {
     "languageId": "plaintext"
    }
   },
   "outputs": [],
   "source": [
    "def cd_where_clause(meta_tbl,voc_id):\n",
    "    '''\n",
    "    generate where clause details based on omop concept_id\n",
    "    '''\n",
    "    cd_lst = meta_tbl.loc[meta_tbl['vocabulary_id']==voc_id,'concept_id'].tolist()\n",
    "    cd_quote = []\n",
    "    for code in cd_lst:\n",
    "        cd_quote.append(\"'\"+ str(code) +\"'\")\n",
    "    cd_quote_str = \",\".join(cd_quote)\n",
    "    return cd_quote_str     \n",
    "\n",
    "meta_tbl = pd.read_csv(os.path.join(path_to_data,'cd_meta_omop.csv'))\n",
    "drg_where = cd_where_clause(meta_tbl,'DRG')\n",
    "cpt4_where = cd_where_clause(meta_tbl,'CPT4')\n",
    "icd10_where = cd_where_clause(meta_tbl,'ICD10PCS')"
   ]
  },
  {
   "cell_type": "code",
   "execution_count": null,
   "metadata": {
    "vscode": {
     "languageId": "plaintext"
    }
   },
   "outputs": [],
   "source": [
    "# load SMM code list and get omop concept_id\n",
    "json_url = urlreq.urlopen('https://raw.githubusercontent.com/RWD2E/phecdm/main/res/valueset_curated/vs-mmm.json')\n",
    "smm_json = json.loads(json_url.read())\n",
    "qry_lst = []\n",
    "def add_quote(lst):\n",
    "    lst_quote = [\"'\"+str(x)+\"'\" for x in lst]\n",
    "    return (lst_quote)\n",
    "for k,v in smm_json.items():\n",
    "    for cd,sig in v.items():\n",
    "        # entail the range\n",
    "        if 'range' in sig:\n",
    "            for x in sig['range']:\n",
    "                key_quote = [str(y) for y in list(range(int(x.split('-')[0]),int(x.split('-')[1])+1))]\n",
    "                sig['exact'].extend(key_quote)\n",
    "            \n",
    "        # generate dynamic queries\n",
    "        qry = '''\n",
    "            select ''' + \"'\" + k + \"'\" + ''' as SMM_GRP, \n",
    "                   concept_id,concept_name,concept_code,vocabulary_id,domain_id\n",
    "            from concept\n",
    "            where vocabulary = '''+ \"'\" + cd.upper() + \"'\" +''' and\n",
    "        '''\n",
    "        \n",
    "        if 'icd' in cd and 'pcs' not in cd:\n",
    "            qry += '''\n",
    "            (\n",
    "                 substring_index(concept_code,'.',1) in ('''+ ','.join(add_quote(sig['lev0'])) +''') or\n",
    "                 substring(concept_code,1,5) in ('''+ ','.join(add_quote(sig['lev1'])) +''') or \n",
    "                 substring(concept_code,1,6) in ('''+ ','.join(add_quote(sig['lev2'])) +''') \n",
    "            )         \n",
    "            '''\n",
    "        else:\n",
    "            qry += '''\n",
    "            (\n",
    "                 concept_code in ('''+ ','.join(add_quote(sig['exact'])) +''')\n",
    "            )         \n",
    "            '''\n",
    "        qry_lst.append(qry)\n",
    "\n",
    "        \n",
    "qry_final = ' union all '.join(qry_lst)\n",
    "print(qry_final)\n",
    "# smm_omop_cd = spark.sql(' union all '.join(qry_lst)).toPandas()\n",
    "# smm_omop_cd\n",
    "# smm_omop_cd.to_csv(os.path.join(path_to_data,'cd_meta_omop_smm.csv'),index=False)"
   ]
  }
 ],
 "metadata": {
  "language_info": {
   "name": "python"
  }
 },
 "nbformat": 4,
 "nbformat_minor": 2
}
